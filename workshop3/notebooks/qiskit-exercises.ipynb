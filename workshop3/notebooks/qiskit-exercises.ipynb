{
 "cells": [
  {
   "cell_type": "code",
   "execution_count": null,
   "id": "b2e6c6ac",
   "metadata": {},
   "outputs": [],
   "source": [
    "from qiskit import QuantumCircuit, QuantumRegister, ClassicalRegister\n",
    "from qiskit.quantum_info import SparsePauliOp\n",
    "from qiskit.transpiler import generate_preset_pass_manager\n",
    "from qiskit_ibm_runtime import EstimatorV2 as Estimator"
   ]
  },
  {
   "cell_type": "code",
   "execution_count": 12,
   "id": "4bccb833",
   "metadata": {},
   "outputs": [
    {
     "name": "stderr",
     "output_type": "stream",
     "text": [
      "/var/folders/pr/1gnjkvg12nd2k0rjdkf89xnm0000gn/T/ipykernel_70319/3226216863.py:3: DeprecationWarning: The \"ibm_quantum\" channel option is deprecated and will be sunset on 1 July. After this date, \"ibm_cloud\", \"ibm_quantum_platform\", and \"local\" will be the only valid channels. Open Plan users should migrate now.  All other users should review the migration guide (https://quantum.cloud.ibm.com/docs/migration-guides/classic-iqp-to-cloud-iqp)to learn when to migrate.\n",
      "  service = QiskitRuntimeService()\n"
     ]
    },
    {
     "name": "stdout",
     "output_type": "stream",
     "text": [
      "ibm_sherbrooke\n"
     ]
    }
   ],
   "source": [
    "from qiskit_ibm_runtime import QiskitRuntimeService\n",
    " \n",
    "service = QiskitRuntimeService()\n",
    "backend = service.least_busy(\n",
    "    operational=True, simulator=False, min_num_qubits=127\n",
    ")\n",
    " \n",
    "print(backend.name)"
   ]
  },
  {
   "cell_type": "markdown",
   "id": "6f7226e9",
   "metadata": {},
   "source": [
    "## Activate Visualization "
   ]
  },
  {
   "cell_type": "markdown",
   "id": "51f48221",
   "metadata": {},
   "source": []
  },
  {
   "cell_type": "code",
   "execution_count": 8,
   "id": "168b1cc4",
   "metadata": {},
   "outputs": [],
   "source": [
    "# importing Qiskit\n",
    "from qiskit import QuantumCircuit, QuantumRegister, ClassicalRegister, transpile\n",
    "import qiskit_aer\n",
    "\n",
    "# import basic plot tools\n",
    "from qiskit.visualization import plot_histogram"
   ]
  },
  {
   "cell_type": "markdown",
   "id": "ffbd0766",
   "metadata": {},
   "source": [
    "## Create Backend with Simulator "
   ]
  },
  {
   "cell_type": "code",
   "execution_count": 9,
   "id": "39b2a6aa",
   "metadata": {},
   "outputs": [],
   "source": [
    "backend = qiskit_aer.Aer.get_backend('qasm_simulator')"
   ]
  },
  {
   "cell_type": "markdown",
   "id": "11febabd",
   "metadata": {},
   "source": [
    "## Superposition "
   ]
  },
  {
   "cell_type": "code",
   "execution_count": null,
   "id": "175f1808",
   "metadata": {},
   "outputs": [],
   "source": [
    "zero = np.array([[1],[0]])\n",
    "one = np.array([[0],[1]])"
   ]
  },
  {
   "cell_type": "code",
   "execution_count": 12,
   "id": "a8bebb3b",
   "metadata": {},
   "outputs": [
    {
     "ename": "NameError",
     "evalue": "name 'ClassicalRegister' is not defined",
     "output_type": "error",
     "traceback": [
      "\u001b[31m---------------------------------------------------------------------------\u001b[39m",
      "\u001b[31mNameError\u001b[39m                                 Traceback (most recent call last)",
      "\u001b[36mCell\u001b[39m\u001b[36m \u001b[39m\u001b[32mIn[12]\u001b[39m\u001b[32m, line 3\u001b[39m\n\u001b[32m      1\u001b[39m \u001b[38;5;66;03m# Creating registers\u001b[39;00m\n\u001b[32m      2\u001b[39m q2 = QuantumRegister(\u001b[32m2\u001b[39m)\n\u001b[32m----> \u001b[39m\u001b[32m3\u001b[39m c1 = \u001b[43mClassicalRegister\u001b[49m(\u001b[32m1\u001b[39m)\n\u001b[32m      4\u001b[39m c2 = ClassicalRegister(\u001b[32m2\u001b[39m)\n\u001b[32m      6\u001b[39m \u001b[38;5;66;03m# quantum circuit to make an entangled bell state \u001b[39;00m\n",
      "\u001b[31mNameError\u001b[39m: name 'ClassicalRegister' is not defined"
     ]
    }
   ],
   "source": [
    "# Creating registers\n",
    "q2 = QuantumRegister(2)\n",
    "c1 = ClassicalRegister(1)\n",
    "c2 = ClassicalRegister(2)\n",
    "\n",
    "# quantum circuit to make an entangled bell state \n",
    "bell = QuantumCircuit(q2)\n",
    "bell.h(q2[0])\n",
    "bell.cx(q2[0], q2[1])\n",
    "\n",
    "# quantum circuit to measure q0 in the standard basis\n",
    "measureIZ = QuantumCircuit(q2, c1)\n",
    "measureIZ.measure(q2[0], c1[0])\n",
    "bellIZ = bell&measureIZ\n",
    "\n",
    "# quantum circuit to measure q0 in the superposition basis \n",
    "measureIX = QuantumCircuit(q2, c1)\n",
    "measureIX.h(q2[0])\n",
    "measureIX.measure(q2[0], c1[0])\n",
    "bellIX = bell&measureIX\n",
    "\n",
    "# quantum circuit to measure q1 in the standard basis\n",
    "measureZI = QuantumCircuit(q2, c1)\n",
    "measureZI.measure(q2[1], c1[0])\n",
    "bellZI = bell&measureZI\n",
    "\n",
    "# quantum circuit to measure q1 in the superposition basis \n",
    "measureXI = QuantumCircuit(q2, c1)\n",
    "measureXI.h(q2[1])\n",
    "measureXI.measure(q2[1], c1[0])\n",
    "bellXI = bell&measureXI\n",
    "\n",
    "# quantum circuit to measure q in the standard basis \n",
    "measureZZ = QuantumCircuit(q2, c2)\n",
    "measureZZ.measure(q2[0], c2[0])\n",
    "measureZZ.measure(q2[1], c2[1])\n",
    "bellZZ = bell&measureZZ\n",
    "\n",
    "# quantum circuit to measure q in the superposition basis \n",
    "measureXX = QuantumCircuit(q2, c2)\n",
    "measureXX.h(q2[0])\n",
    "measureXX.h(q2[1])\n",
    "measureXX.measure(q2[0], c2[0])\n",
    "measureXX.measure(q2[1], c2[1])\n",
    "bellXX = bell&measureXX"
   ]
  },
  {
   "cell_type": "code",
   "execution_count": 11,
   "id": "0e0a1855",
   "metadata": {},
   "outputs": [
    {
     "data": {
      "image/png": "[encoded data removed]",
      "text/plain": [
       "<Figure size 388.934x284.278 with 1 Axes>"
      ]
     },
     "execution_count": 11,
     "metadata": {},
     "output_type": "execute_result"
    }
   ],
   "source": [
    "bellIZ.draw(output='mpl')"
   ]
  },
  {
   "cell_type": "markdown",
   "id": "0a035a3f",
   "metadata": {},
   "source": [
    "# How to running on Quantum Computer"
   ]
  },
  {
   "cell_type": "markdown",
   "id": "b8695b2f",
   "metadata": {},
   "source": [
    "## The procedure is \n"
   ]
  },
  {
   "cell_type": "markdown",
   "id": "08aec1c3",
   "metadata": {},
   "source": [
    "### Setup the user token, access to Quantum Composer, on Account -> Management Account -> API Token "
   ]
  },
  {
   "cell_type": "code",
   "execution_count": null,
   "id": "bb802c92",
   "metadata": {},
   "outputs": [],
   "source": [
    "user_token=''"
   ]
  },
  {
   "cell_type": "markdown",
   "id": "06583104",
   "metadata": {},
   "source": [
    "\n",
    "#### Setup the runtime Services using the user_token  using channel \"ibm_quantum\""
   ]
  },
  {
   "cell_type": "code",
   "execution_count": null,
   "id": "e66c9b05",
   "metadata": {},
   "outputs": [],
   "source": [
    "from qiskit_ibm_runtime import QiskitRuntimeService\n",
    " \n",
    "\n",
    "QiskitRuntimeService.save_account(\n",
    "  token=user_token,\n",
    "  channel=\"ibm_quantum\" # `channel` distinguishes between different account types\n",
    ")\n",
    "#If the account already saved, omit this step "
   ]
  },
  {
   "cell_type": "markdown",
   "id": "686e37dd",
   "metadata": {},
   "source": [
    "### Setup the QiskitRuntimeService, with  backend to Simualtor to False"
   ]
  },
  {
   "cell_type": "code",
   "execution_count": 4,
   "id": "ded46cbe",
   "metadata": {},
   "outputs": [
    {
     "name": "stderr",
     "output_type": "stream",
     "text": [
      "/var/folders/pr/1gnjkvg12nd2k0rjdkf89xnm0000gn/T/ipykernel_74306/4154334985.py:3: DeprecationWarning: The \"ibm_quantum\" channel option is deprecated and will be sunset on 1 July. After this date, \"ibm_cloud\", \"ibm_quantum_platform\", and \"local\" will be the only valid channels. Open Plan users should migrate now.  All other users should review the migration guide (https://quantum.cloud.ibm.com/docs/migration-guides/classic-iqp-to-cloud-iqp)to learn when to migrate.\n",
      "  service = QiskitRuntimeService()\n"
     ]
    }
   ],
   "source": [
    "from qiskit_ibm_runtime import QiskitRuntimeService\n",
    " \n",
    "service = QiskitRuntimeService()\n",
    " \n",
    "backend = service.least_busy(simulator=False, operational=True)"
   ]
  },
  {
   "cell_type": "markdown",
   "id": "98e48ac6",
   "metadata": {},
   "source": [
    "### Convert to an ISA circuit and layout-mapped observables."
   ]
  },
  {
   "cell_type": "code",
   "execution_count": 7,
   "id": "942cee73",
   "metadata": {},
   "outputs": [
    {
     "ename": "NameError",
     "evalue": "name 'bell' is not defined",
     "output_type": "error",
     "traceback": [
      "\u001b[31m---------------------------------------------------------------------------\u001b[39m",
      "\u001b[31mNameError\u001b[39m                                 Traceback (most recent call last)",
      "\u001b[36mCell\u001b[39m\u001b[36m \u001b[39m\u001b[32mIn[7]\u001b[39m\u001b[32m, line 4\u001b[39m\n\u001b[32m      1\u001b[39m \u001b[38;5;28;01mfrom\u001b[39;00m\u001b[38;5;250m \u001b[39m\u001b[34;01mqiskit\u001b[39;00m\u001b[34;01m.\u001b[39;00m\u001b[34;01mtranspiler\u001b[39;00m\u001b[38;5;250m \u001b[39m\u001b[38;5;28;01mimport\u001b[39;00m generate_preset_pass_manager\n\u001b[32m      3\u001b[39m pm = generate_preset_pass_manager(backend=backend, optimization_level=\u001b[32m1\u001b[39m)\n\u001b[32m----> \u001b[39m\u001b[32m4\u001b[39m isa_circuit = pm.run(\u001b[43mbell\u001b[49m)\n\u001b[32m      6\u001b[39m isa_circuit.draw(\u001b[33m\"\u001b[39m\u001b[33mmpl\u001b[39m\u001b[33m\"\u001b[39m, idle_wires=\u001b[38;5;28;01mFalse\u001b[39;00m)\n",
      "\u001b[31mNameError\u001b[39m: name 'bell' is not defined"
     ]
    }
   ],
   "source": [
    "from qiskit.transpiler import generate_preset_pass_manager\n",
    "\n",
    "pm = generate_preset_pass_manager(backend=backend, optimization_level=1)\n",
    "isa_circuit = pm.run(bell)\n",
    " \n",
    "isa_circuit.draw(\"mpl\", idle_wires=False)"
   ]
  },
  {
   "cell_type": "code",
   "execution_count": null,
   "id": "ad9fa3da",
   "metadata": {},
   "outputs": [],
   "source": []
  }
 ],
 "metadata": {
  "kernelspec": {
   "display_name": "qcve",
   "language": "python",
   "name": "python3"
  },
  "language_info": {
   "codemirror_mode": {
    "name": "ipython",
    "version": 3
   },
   "file_extension": ".py",
   "mimetype": "text/x-python",
   "name": "python",
   "nbconvert_exporter": "python",
   "pygments_lexer": "ipython3",
   "version": "3.13.3"
  }
 },
 "nbformat": 4,
 "nbformat_minor": 5
}
